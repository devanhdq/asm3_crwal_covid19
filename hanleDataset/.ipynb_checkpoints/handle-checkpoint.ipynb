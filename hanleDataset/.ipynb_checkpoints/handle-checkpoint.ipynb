{
 "cells": [
  {
   "cell_type": "markdown",
   "metadata": {},
   "source": [
    "Thêm thư viện pandas và hàm loại thay thế các chữ tiếng việt"
   ]
  },
  {
   "cell_type": "code",
   "execution_count": 3,
   "metadata": {},
   "outputs": [],
   "source": [
    "import re\n",
    "import pandas as pd\n",
    "\n",
    "\n",
    "def no_accent_vietnamese(s):\n",
    "    s = re.sub(r'[àáạảãâầấậẩẫăằắặẳẵ]', 'a', s)\n",
    "    s = re.sub(r'[ÀÁẠẢÃĂẰẮẶẲẴÂẦẤẬẨẪ]', 'A', s)\n",
    "    s = re.sub(r'[èéẹẻẽêềếệểễ]', 'e', s)\n",
    "    s = re.sub(r'[ÈÉẸẺẼÊỀẾỆỂỄ]', 'E', s)\n",
    "    s = re.sub(r'[òóọỏõôồốộổỗơờớợởỡ]', 'o', s)\n",
    "    s = re.sub(r'[ÒÓỌỎÕÔỒỐỘỔỖƠỜỚỢỞỠ]', 'O', s)\n",
    "    s = re.sub(r'[ìíịỉĩ]', 'i', s)\n",
    "    s = re.sub(r'[ÌÍỊỈĨ]', 'I', s)\n",
    "    s = re.sub(r'[ùúụủũưừứựửữ]', 'u', s)\n",
    "    s = re.sub(r'[ƯỪỨỰỬỮÙÚỤỦŨ]', 'U', s)\n",
    "    s = re.sub(r'[ỳýỵỷỹ]', 'y', s)\n",
    "    s = re.sub(r'[ỲÝỴỶỸ]', 'Y', s)\n",
    "    s = re.sub(r'[Đ]', 'D', s)\n",
    "    s = re.sub(r'[đ]', 'd', s)\n",
    "\n",
    "    marks_list = [u'\\u0300', u'\\u0301', u'\\u0302', u'\\u0303', u'\\u0306', u'\\u0309', u'\\u0323']\n",
    "\n",
    "    for mark in marks_list:\n",
    "        s = s.replace(mark, '')\n",
    "    return s"
   ]
  },
  {
   "cell_type": "markdown",
   "metadata": {},
   "source": [
    "Thay thế các giá trị tiếng việt"
   ]
  },
  {
   "cell_type": "code",
   "execution_count": 12,
   "metadata": {},
   "outputs": [
    {
     "name": "stdout",
     "output_type": "stream",
     "text": [
      "               time                             case  \\\n",
      "0  18:20 05/09/2021   THONG BAO VE 13.137 CA MAC MOI   \n",
      "1  18:40 04/09/2021   THONG BAO VE 9.521 CA MAC MOI    \n",
      "2  18:20 03/09/2021  THONG BAO VE 14.922 CA MAC MOI    \n",
      "3  18:25 02/09/2021  THONG BAO VE 13.197 CA MAC MOI    \n",
      "4  18:20 01/09/2021  THONG BAO VE 11.434 CA MAC MOI    \n",
      "\n",
      "                                              detail  \n",
      "0  Trong do 36 ca nhap canh va 13.101 ca ghi nhan...  \n",
      "1  Ghi nhan trong nuoc tai TP. Ho Chi Minh (4.104...  \n",
      "2  Trong do 28 ca nhap canh va 14.894 ca ghi nhan...  \n",
      "3  Trong do 11 ca nhap canh va 13.186 ca ghi nhan...  \n",
      "4  Trong do 05 ca nhap canh va 11.429 ca ghi nhan...  \n"
     ]
    }
   ],
   "source": [
    "path_file = '../dataset.csv'\n",
    "df = pd.read_csv(path_file)\n",
    "\n",
    "for index, row in df.iterrows():\n",
    "    for column in df.columns:\n",
    "        old_value = row[column]\n",
    "        new_value = no_accent_vietnamese(old_value)\n",
    "        df.at[index, column] = new_value\n",
    "\n",
    "print(df.head())"
   ]
  },
  {
   "cell_type": "markdown",
   "metadata": {},
   "source": [
    "Xử lý dữ liệu của cột \"case\", ta cần loại bỏ các kí tự chỉ giữ lại số ca mắc mới\n"
   ]
  },
  {
   "cell_type": "code",
   "execution_count": 7,
   "metadata": {},
   "outputs": [
    {
     "name": "stdout",
     "output_type": "stream",
     "text": [
      "               time   case                                             detail\n",
      "0  18:20 05/09/2021  13137  Trong do 36 ca nhap canh va 13.101 ca ghi nhan...\n",
      "1  18:40 04/09/2021   9521  Ghi nhan trong nuoc tai TP. Ho Chi Minh (4.104...\n",
      "2  18:20 03/09/2021  14922  Trong do 28 ca nhap canh va 14.894 ca ghi nhan...\n",
      "3  18:25 02/09/2021  13197  Trong do 11 ca nhap canh va 13.186 ca ghi nhan...\n",
      "4  18:20 01/09/2021  11434  Trong do 05 ca nhap canh va 11.429 ca ghi nhan...\n"
     ]
    }
   ],
   "source": [
    "# pattern = r'\\d+\\.+\\d+'\n",
    "\n",
    "df['case'] = df['case'].str.replace(r'\\D+', '', regex=True)\n",
    "\n",
    "print(df.head())"
   ]
  },
  {
   "cell_type": "code",
   "execution_count": 8,
   "metadata": {},
   "outputs": [
    {
     "name": "stdout",
     "output_type": "stream",
     "text": [
      "<class 'list'>\n"
     ]
    }
   ],
   "source": [
    "pattern = r'([A-Z][\\w\\s]+\\b)\\s*\\(([\\d\\.]+)\\)'\n",
    "\n",
    "matches = re.findall(pattern, df.iloc[0,2])\n",
    "\n",
    "# for match in matches:\n",
    "#     print(match[0], match[1])\n",
    "\n",
    "print(type(matches))"
   ]
  },
  {
   "cell_type": "code",
   "execution_count": 4,
   "metadata": {},
   "outputs": [],
   "source": []
  }
 ],
 "metadata": {
  "kernelspec": {
   "display_name": "Python 3 (ipykernel)",
   "language": "python",
   "name": "python3"
  },
  "language_info": {
   "codemirror_mode": {
    "name": "ipython",
    "version": 3
   },
   "file_extension": ".py",
   "mimetype": "text/x-python",
   "name": "python",
   "nbconvert_exporter": "python",
   "pygments_lexer": "ipython3",
   "version": "3.9.13"
  }
 },
 "nbformat": 4,
 "nbformat_minor": 1
}
