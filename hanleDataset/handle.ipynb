{
 "cells": [
  {
   "cell_type": "markdown",
   "metadata": {},
   "source": [
    "Thêm thư viện pandas và hàm loại thay thế các chữ tiếng việt"
   ]
  },
  {
   "cell_type": "code",
   "execution_count": 15,
   "metadata": {},
   "outputs": [],
   "source": [
    "import re\n",
    "import pandas as pd\n",
    "\n",
    "\n",
    "def no_accent_vietnamese(s):\n",
    "    s = re.sub(r'[àáạảãâầấậẩẫăằắặẳẵ]', 'a', s)\n",
    "    s = re.sub(r'[ÀÁẠẢÃĂẰẮẶẲẴÂẦẤẬẨẪ]', 'A', s)\n",
    "    s = re.sub(r'[èéẹẻẽêềếệểễ]', 'e', s)\n",
    "    s = re.sub(r'[ÈÉẸẺẼÊỀẾỆỂỄ]', 'E', s)\n",
    "    s = re.sub(r'[òóọỏõôồốộổỗơờớợởỡ]', 'o', s)\n",
    "    s = re.sub(r'[ÒÓỌỎÕÔỒỐỘỔỖƠỜỚỢỞỠ]', 'O', s)\n",
    "    s = re.sub(r'[ìíịỉĩ]', 'i', s)\n",
    "    s = re.sub(r'[ÌÍỊỈĨ]', 'I', s)\n",
    "    s = re.sub(r'[ùúụủũưừứựửữ]', 'u', s)\n",
    "    s = re.sub(r'[ƯỪỨỰỬỮÙÚỤỦŨ]', 'U', s)\n",
    "    s = re.sub(r'[ỳýỵỷỹ]', 'y', s)\n",
    "    s = re.sub(r'[ỲÝỴỶỸ]', 'Y', s)\n",
    "    s = re.sub(r'[Đ]', 'D', s)\n",
    "    s = re.sub(r'[đ]', 'd', s)\n",
    "\n",
    "    marks_list = [u'\\u0300', u'\\u0301', u'\\u0302', u'\\u0303', u'\\u0306', u'\\u0309', u'\\u0323']\n",
    "\n",
    "    for mark in marks_list:\n",
    "        s = s.replace(mark, '')\n",
    "    return s"
   ]
  },
  {
   "cell_type": "markdown",
   "metadata": {},
   "source": [
    "Thay thế các giá trị tiếng việt"
   ]
  },
  {
   "cell_type": "code",
   "execution_count": 32,
   "metadata": {},
   "outputs": [
    {
     "name": "stdout",
     "output_type": "stream",
     "text": [
      "               time                             case  \\\n",
      "0  18:20 05/09/2021   THONG BAO VE 13.137 CA MAC MOI   \n",
      "1  18:40 04/09/2021   THONG BAO VE 9.521 CA MAC MOI    \n",
      "2  18:20 03/09/2021  THONG BAO VE 14.922 CA MAC MOI    \n",
      "3  18:25 02/09/2021  THONG BAO VE 13.197 CA MAC MOI    \n",
      "4  18:20 01/09/2021  THONG BAO VE 11.434 CA MAC MOI    \n",
      "\n",
      "                                              detail  \n",
      "0  Trong do 36 ca nhap canh va 13.101 ca ghi nhan...  \n",
      "1  Ghi nhan trong nuoc tai TP. Ho Chi Minh (4.104...  \n",
      "2  Trong do 28 ca nhap canh va 14.894 ca ghi nhan...  \n",
      "3  Trong do 11 ca nhap canh va 13.186 ca ghi nhan...  \n",
      "4  Trong do 05 ca nhap canh va 11.429 ca ghi nhan...  \n"
     ]
    }
   ],
   "source": [
    "path_file = '../dataset.csv'\n",
    "df = pd.read_csv(path_file)\n",
    "\n",
    "for index, row in df.iterrows():\n",
    "    for column in df.columns:\n",
    "        old_value = row[column]\n",
    "        new_value = no_accent_vietnamese(old_value)\n",
    "        df.at[index, column] = new_value\n",
    "\n",
    "print(df.head())"
   ]
  },
  {
   "cell_type": "markdown",
   "metadata": {},
   "source": [
    "Xử lý dữ liệu của cột \"case\", ta cần loại bỏ các kí tự chỉ giữ lại số ca mắc mới\n"
   ]
  },
  {
   "cell_type": "code",
   "execution_count": 33,
   "metadata": {},
   "outputs": [
    {
     "name": "stdout",
     "output_type": "stream",
     "text": [
      "               time   case                                             detail\n",
      "0  18:20 05/09/2021  13137  Trong do 36 ca nhap canh va 13.101 ca ghi nhan...\n",
      "1  18:40 04/09/2021   9521  Ghi nhan trong nuoc tai TP. Ho Chi Minh (4.104...\n",
      "2  18:20 03/09/2021  14922  Trong do 28 ca nhap canh va 14.894 ca ghi nhan...\n",
      "3  18:25 02/09/2021  13197  Trong do 11 ca nhap canh va 13.186 ca ghi nhan...\n",
      "4  18:20 01/09/2021  11434  Trong do 05 ca nhap canh va 11.429 ca ghi nhan...\n"
     ]
    }
   ],
   "source": [
    "df['case'] = df['case'].str.replace(r'\\D+', '', regex=True)\n",
    "\n",
    "print(df.head())"
   ]
  },
  {
   "cell_type": "markdown",
   "metadata": {},
   "source": [
    "Xử lý cột \"detail\""
   ]
  },
  {
   "cell_type": "code",
   "execution_count": 22,
   "metadata": {},
   "outputs": [
    {
     "name": "stdout",
     "output_type": "stream",
     "text": [
      "           0    1\n",
      "0    Long An  756\n",
      "1   Dong Nai  992\n",
      "2   Dong Nai  986\n",
      "3   Dong Nai  803\n",
      "4   Dong Nai  759\n",
      "5   Dong Nai  634\n",
      "6    Long An  524\n",
      "7    Long An  533\n",
      "8   Dong Nai  797\n",
      "9   Dong Nai  996\n",
      "10   Long An  756\n",
      "11  Dong Nai  992\n",
      "12  Dong Nai  986\n",
      "13  Dong Nai  803\n",
      "14  Dong Nai  759\n",
      "15  Dong Nai  634\n",
      "16   Long An  524\n",
      "17   Long An  533\n",
      "18  Dong Nai  797\n",
      "19  Dong Nai  996\n"
     ]
    }
   ],
   "source": [
    "# pattern = r\"([A-Z][a-z]+[\\s-][A-Z][a-z]+) \\((\\d+(?:,\\d+)*)\\)\"\n",
    "\n",
    "df[[\"city\", \"num_cases\"]] = df[\"text\"].str.extract(r\"([A-Z][a-z]+[\\s-][A-Z][a-z]+) \\((\\d+(?:,\\d+)*)\\)\")\n",
    "\n",
    "# Chuyển đổi kiểu dữ liệu của cột num_cases từ chuỗi sang số nguyên\n",
    "df[\"num_cases\"] = df[\"num_cases\"].str.replace(\",\", \"\").astype(int)\n",
    "\n",
    "# Hiển thị DataFrame kết quả\n",
    "print(df)\n",
    "# matches = re.findall(pattern, df['detail'])\n",
    "#\n",
    "# for match in matches:\n",
    "#     city = match[0]\n",
    "#     num_cases = int(match[1].replace(\",\", \"\"))\n",
    "#     print(f\"{city}: {num_cases}\")"
   ]
  },
  {
   "cell_type": "code",
   "execution_count": 4,
   "metadata": {},
   "outputs": [],
   "source": []
  }
 ],
 "metadata": {
  "kernelspec": {
   "display_name": "Python 3 (ipykernel)",
   "language": "python",
   "name": "python3"
  },
  "language_info": {
   "codemirror_mode": {
    "name": "ipython",
    "version": 3
   },
   "file_extension": ".py",
   "mimetype": "text/x-python",
   "name": "python",
   "nbconvert_exporter": "python",
   "pygments_lexer": "ipython3",
   "version": "3.9.13"
  }
 },
 "nbformat": 4,
 "nbformat_minor": 1
}
